{
 "cells": [
  {
   "cell_type": "markdown",
   "metadata": {},
   "source": [
    "# Prescriptive Models and Data Analytics - Problem Set 2\n",
    "# Causal Interpretation\n",
    "## Elen Sahakyan (UID: 706310696)"
   ]
  },
  {
   "cell_type": "code",
   "execution_count": 58,
   "metadata": {},
   "outputs": [],
   "source": [
    "# Importing libraries\n",
    "import numpy as np\n",
    "import pandas as pd\n",
    "import matplotlib.pyplot as plt \n",
    "import statsmodels.api as sm\n",
    "import statsmodels.formula.api as smf   \n",
    "from scipy import stats\n",
    "from linearmodels import PanelOLS"
   ]
  },
  {
   "cell_type": "markdown",
   "metadata": {},
   "source": [
    "**Part 1. Hospital admission & quality of service**\n",
    "\n",
    "**Question 1. Regressing patient-died dummy variable on a set of hospital dummies**"
   ]
  },
  {
   "cell_type": "code",
   "execution_count": 59,
   "metadata": {},
   "outputs": [
    {
     "name": "stdout",
     "output_type": "stream",
     "text": [
      "<class 'pandas.core.frame.DataFrame'>\n",
      "RangeIndex: 24480 entries, 0 to 24479\n",
      "Data columns (total 6 columns):\n",
      " #   Column              Non-Null Count  Dtype \n",
      "---  ------              --------------  ----- \n",
      " 0   patient_id          24480 non-null  int64 \n",
      " 1   hospital_id         24480 non-null  object\n",
      " 2   admin_year          24480 non-null  int64 \n",
      " 3   patient_died_dummy  24480 non-null  int64 \n",
      " 4   startage            24480 non-null  int64 \n",
      " 5   female_dummy        24480 non-null  int64 \n",
      "dtypes: int64(5), object(1)\n",
      "memory usage: 1.1+ MB\n"
     ]
    }
   ],
   "source": [
    "# Load data\n",
    "health_df = pd.read_csv('health_data.csv')\n",
    "health_df.info()"
   ]
  },
  {
   "cell_type": "code",
   "execution_count": 60,
   "metadata": {},
   "outputs": [
    {
     "data": {
      "text/html": [
       "<div>\n",
       "<style scoped>\n",
       "    .dataframe tbody tr th:only-of-type {\n",
       "        vertical-align: middle;\n",
       "    }\n",
       "\n",
       "    .dataframe tbody tr th {\n",
       "        vertical-align: top;\n",
       "    }\n",
       "\n",
       "    .dataframe thead th {\n",
       "        text-align: right;\n",
       "    }\n",
       "</style>\n",
       "<table border=\"1\" class=\"dataframe\">\n",
       "  <thead>\n",
       "    <tr style=\"text-align: right;\">\n",
       "      <th></th>\n",
       "      <th>patient_id</th>\n",
       "      <th>admin_year</th>\n",
       "      <th>patient_died_dummy</th>\n",
       "      <th>startage</th>\n",
       "      <th>female_dummy</th>\n",
       "    </tr>\n",
       "  </thead>\n",
       "  <tbody>\n",
       "    <tr>\n",
       "      <th>count</th>\n",
       "      <td>24480.000000</td>\n",
       "      <td>24480.000000</td>\n",
       "      <td>24480.000000</td>\n",
       "      <td>24480.000000</td>\n",
       "      <td>24480.000000</td>\n",
       "    </tr>\n",
       "    <tr>\n",
       "      <th>mean</th>\n",
       "      <td>12240.500000</td>\n",
       "      <td>2004.882271</td>\n",
       "      <td>0.128554</td>\n",
       "      <td>65.465523</td>\n",
       "      <td>0.201389</td>\n",
       "    </tr>\n",
       "    <tr>\n",
       "      <th>std</th>\n",
       "      <td>7066.911631</td>\n",
       "      <td>1.428537</td>\n",
       "      <td>0.334712</td>\n",
       "      <td>9.056334</td>\n",
       "      <td>0.401046</td>\n",
       "    </tr>\n",
       "    <tr>\n",
       "      <th>min</th>\n",
       "      <td>1.000000</td>\n",
       "      <td>2003.000000</td>\n",
       "      <td>0.000000</td>\n",
       "      <td>25.000000</td>\n",
       "      <td>0.000000</td>\n",
       "    </tr>\n",
       "    <tr>\n",
       "      <th>25%</th>\n",
       "      <td>6120.750000</td>\n",
       "      <td>2004.000000</td>\n",
       "      <td>0.000000</td>\n",
       "      <td>59.000000</td>\n",
       "      <td>0.000000</td>\n",
       "    </tr>\n",
       "    <tr>\n",
       "      <th>50%</th>\n",
       "      <td>12240.500000</td>\n",
       "      <td>2005.000000</td>\n",
       "      <td>0.000000</td>\n",
       "      <td>66.000000</td>\n",
       "      <td>0.000000</td>\n",
       "    </tr>\n",
       "    <tr>\n",
       "      <th>75%</th>\n",
       "      <td>18360.250000</td>\n",
       "      <td>2006.000000</td>\n",
       "      <td>0.000000</td>\n",
       "      <td>72.000000</td>\n",
       "      <td>0.000000</td>\n",
       "    </tr>\n",
       "    <tr>\n",
       "      <th>max</th>\n",
       "      <td>24480.000000</td>\n",
       "      <td>2007.000000</td>\n",
       "      <td>1.000000</td>\n",
       "      <td>89.000000</td>\n",
       "      <td>1.000000</td>\n",
       "    </tr>\n",
       "  </tbody>\n",
       "</table>\n",
       "</div>"
      ],
      "text/plain": [
       "         patient_id    admin_year  ...      startage  female_dummy\n",
       "count  24480.000000  24480.000000  ...  24480.000000  24480.000000\n",
       "mean   12240.500000   2004.882271  ...     65.465523      0.201389\n",
       "std     7066.911631      1.428537  ...      9.056334      0.401046\n",
       "min        1.000000   2003.000000  ...     25.000000      0.000000\n",
       "25%     6120.750000   2004.000000  ...     59.000000      0.000000\n",
       "50%    12240.500000   2005.000000  ...     66.000000      0.000000\n",
       "75%    18360.250000   2006.000000  ...     72.000000      0.000000\n",
       "max    24480.000000   2007.000000  ...     89.000000      1.000000\n",
       "\n",
       "[8 rows x 5 columns]"
      ]
     },
     "execution_count": 60,
     "metadata": {},
     "output_type": "execute_result"
    }
   ],
   "source": [
    "health_df.describe()"
   ]
  },
  {
   "cell_type": "code",
   "execution_count": 61,
   "metadata": {},
   "outputs": [
    {
     "data": {
      "text/html": [
       "<div>\n",
       "<style scoped>\n",
       "    .dataframe tbody tr th:only-of-type {\n",
       "        vertical-align: middle;\n",
       "    }\n",
       "\n",
       "    .dataframe tbody tr th {\n",
       "        vertical-align: top;\n",
       "    }\n",
       "\n",
       "    .dataframe thead th {\n",
       "        text-align: right;\n",
       "    }\n",
       "</style>\n",
       "<table border=\"1\" class=\"dataframe\">\n",
       "  <thead>\n",
       "    <tr style=\"text-align: right;\">\n",
       "      <th></th>\n",
       "      <th>patient_id</th>\n",
       "      <th>hospital_id</th>\n",
       "      <th>admin_year</th>\n",
       "      <th>patient_died_dummy</th>\n",
       "      <th>startage</th>\n",
       "      <th>female_dummy</th>\n",
       "    </tr>\n",
       "  </thead>\n",
       "  <tbody>\n",
       "    <tr>\n",
       "      <th>0</th>\n",
       "      <td>1</td>\n",
       "      <td>D</td>\n",
       "      <td>2003</td>\n",
       "      <td>0</td>\n",
       "      <td>81</td>\n",
       "      <td>0</td>\n",
       "    </tr>\n",
       "    <tr>\n",
       "      <th>1</th>\n",
       "      <td>2</td>\n",
       "      <td>H</td>\n",
       "      <td>2003</td>\n",
       "      <td>1</td>\n",
       "      <td>67</td>\n",
       "      <td>0</td>\n",
       "    </tr>\n",
       "    <tr>\n",
       "      <th>2</th>\n",
       "      <td>3</td>\n",
       "      <td>A</td>\n",
       "      <td>2003</td>\n",
       "      <td>0</td>\n",
       "      <td>54</td>\n",
       "      <td>0</td>\n",
       "    </tr>\n",
       "    <tr>\n",
       "      <th>3</th>\n",
       "      <td>4</td>\n",
       "      <td>E</td>\n",
       "      <td>2003</td>\n",
       "      <td>0</td>\n",
       "      <td>81</td>\n",
       "      <td>0</td>\n",
       "    </tr>\n",
       "    <tr>\n",
       "      <th>4</th>\n",
       "      <td>5</td>\n",
       "      <td>H</td>\n",
       "      <td>2003</td>\n",
       "      <td>0</td>\n",
       "      <td>69</td>\n",
       "      <td>0</td>\n",
       "    </tr>\n",
       "  </tbody>\n",
       "</table>\n",
       "</div>"
      ],
      "text/plain": [
       "   patient_id hospital_id  ...  startage  female_dummy\n",
       "0           1           D  ...        81             0\n",
       "1           2           H  ...        67             0\n",
       "2           3           A  ...        54             0\n",
       "3           4           E  ...        81             0\n",
       "4           5           H  ...        69             0\n",
       "\n",
       "[5 rows x 6 columns]"
      ]
     },
     "execution_count": 61,
     "metadata": {},
     "output_type": "execute_result"
    }
   ],
   "source": [
    "health_df.head()"
   ]
  },
  {
   "cell_type": "code",
   "execution_count": 62,
   "metadata": {},
   "outputs": [
    {
     "name": "stdout",
     "output_type": "stream",
     "text": [
      "                            OLS Regression Results                            \n",
      "==============================================================================\n",
      "Dep. Variable:     patient_died_dummy   R-squared:                       0.042\n",
      "Model:                            OLS   Adj. R-squared:                  0.042\n",
      "Method:                 Least Squares   F-statistic:                     119.3\n",
      "Date:                Sun, 11 Feb 2024   Prob (F-statistic):          1.75e-220\n",
      "Time:                        17:50:30   Log-Likelihood:                -7416.5\n",
      "No. Observations:               24480   AIC:                         1.485e+04\n",
      "Df Residuals:                   24470   BIC:                         1.493e+04\n",
      "Df Model:                           9                                         \n",
      "Covariance Type:            nonrobust                                         \n",
      "=======================================================================================\n",
      "                          coef    std err          t      P>|t|      [0.025      0.975]\n",
      "---------------------------------------------------------------------------------------\n",
      "Intercept               0.0970      0.006     16.355      0.000       0.085       0.109\n",
      "C(hospital_id)[T.B]     0.0072      0.008      0.890      0.373      -0.009       0.023\n",
      "C(hospital_id)[T.C]    -0.0483      0.010     -4.776      0.000      -0.068      -0.028\n",
      "C(hospital_id)[T.D]     0.1882      0.008     23.188      0.000       0.172       0.204\n",
      "C(hospital_id)[T.E]    -0.0531      0.011     -4.771      0.000      -0.075      -0.031\n",
      "C(hospital_id)[T.F]     0.0003      0.009      0.030      0.976      -0.017       0.017\n",
      "C(hospital_id)[T.G]     0.0441      0.008      5.273      0.000       0.028       0.061\n",
      "C(hospital_id)[T.H]     0.0038      0.009      0.414      0.679      -0.014       0.022\n",
      "C(hospital_id)[T.I]     0.0318      0.009      3.480      0.001       0.014       0.050\n",
      "C(hospital_id)[T.J]     0.0112      0.011      1.028      0.304      -0.010       0.032\n",
      "==============================================================================\n",
      "Omnibus:                     9228.833   Durbin-Watson:                   2.025\n",
      "Prob(Omnibus):                  0.000   Jarque-Bera (JB):            25954.225\n",
      "Skew:                           2.096   Prob(JB):                         0.00\n",
      "Kurtosis:                       5.807   Cond. No.                         10.0\n",
      "==============================================================================\n",
      "\n",
      "Notes:\n",
      "[1] Standard Errors assume that the covariance matrix of the errors is correctly specified.\n"
     ]
    }
   ],
   "source": [
    "# Regress patient-died dummy variable on a set of hospital dummies\n",
    "# Exogenous variables of patient characteristics are not included in this analysis\n",
    "reg_hospital_ids = smf.ols(formula = 'patient_died_dummy ~ C(hospital_id)', data = health_df).fit()   \n",
    "print(reg_hospital_ids.summary())"
   ]
  },
  {
   "cell_type": "markdown",
   "metadata": {},
   "source": [
    "The constant term has a coefficient of 0.0970, which implies that keeping other variables at their reference levels, including keeping the variable `hospital_id` at baseline, i.e. Hospital A, the estimated probability of patient death is 0.0970 (9.7%).\n",
    "\n",
    "The dummy variable coefficient for Hospital D is 0.1882, indicating that the estimated probability of patient death in hospital D is 0.1882 (18.82%) higher as compared to Hospital A, the baseline hospital, holding all other variables constant."
   ]
  },
  {
   "cell_type": "code",
   "execution_count": 63,
   "metadata": {},
   "outputs": [
    {
     "name": "stdout",
     "output_type": "stream",
     "text": [
      "Difference in mortality rates at Hospitals D and E is 0.2414.\n"
     ]
    }
   ],
   "source": [
    "# Difference in the mortality rates, i.e. probability of patient death, in Hospitals D and E\n",
    "coef_hospital_D = reg_hospital_ids.params['C(hospital_id)[T.D]']\n",
    "coef_hospital_E = reg_hospital_ids.params['C(hospital_id)[T.E]']\n",
    "diff_D_E = coef_hospital_D - coef_hospital_E\n",
    "\n",
    "print(f'Difference in mortality rates at Hospitals D and E is {diff_D_E:.4f}.') "
   ]
  },
  {
   "cell_type": "markdown",
   "metadata": {},
   "source": [
    "**Question 2. Mortality rates in Hospitals A and B**"
   ]
  },
  {
   "cell_type": "code",
   "execution_count": 64,
   "metadata": {},
   "outputs": [
    {
     "name": "stdout",
     "output_type": "stream",
     "text": [
      "                            OLS Regression Results                            \n",
      "==============================================================================\n",
      "Dep. Variable:     patient_died_dummy   R-squared:                       0.000\n",
      "Model:                            OLS   Adj. R-squared:                 -0.000\n",
      "Method:                 Least Squares   F-statistic:                    0.9377\n",
      "Date:                Sun, 11 Feb 2024   Prob (F-statistic):              0.333\n",
      "Time:                        17:50:30   Log-Likelihood:                -1446.8\n",
      "No. Observations:                6611   AIC:                             2898.\n",
      "Df Residuals:                    6609   BIC:                             2911.\n",
      "Df Model:                           1                                         \n",
      "Covariance Type:            nonrobust                                         \n",
      "=======================================================================================\n",
      "                          coef    std err          t      P>|t|      [0.025      0.975]\n",
      "---------------------------------------------------------------------------------------\n",
      "Intercept               0.0970      0.005     17.791      0.000       0.086       0.108\n",
      "C(hospital_id)[T.B]     0.0072      0.007      0.968      0.333      -0.007       0.022\n",
      "==============================================================================\n",
      "Omnibus:                     3377.258   Durbin-Watson:                   2.031\n",
      "Prob(Omnibus):                  0.000   Jarque-Bera (JB):            14683.814\n",
      "Skew:                           2.650   Prob(JB):                         0.00\n",
      "Kurtosis:                       8.022   Cond. No.                         2.72\n",
      "==============================================================================\n",
      "\n",
      "Notes:\n",
      "[1] Standard Errors assume that the covariance matrix of the errors is correctly specified.\n"
     ]
    }
   ],
   "source": [
    "# Use only the data from Hospitals A and B\n",
    "# Regress mortality on a dummy for whether the patient visited hospital B\n",
    "health_df_A_B = health_df[health_df['hospital_id'].isin(['A', 'B'])]\n",
    "reg_B = smf.ols(formula = 'patient_died_dummy ~ C(hospital_id)', data = health_df_A_B).fit()   \n",
    "\n",
    "print(reg_B.summary())"
   ]
  },
  {
   "cell_type": "markdown",
   "metadata": {},
   "source": [
    "a) The coefficient for `hospital_id` is 0.0072 (0.72%), with P value higher than the significance level of 0.05. The coefficient indicates that patients admitted at Hospital B have 0.72% higher probability of death as compared to the baseline category of Hospital A. However, as the P value is large, we do not have sufficient evidence to claim that the coefficient is significant, and thus, cannot claim that there is significant difference in mortality rates between Hospitals A and B.\n",
    "\n",
    "b) Hospital admission is not entirely random and depends on several factors including proximity, or specialization. As Hospitals usually specialize in certain treatments, if the patients exhibit symptoms of (CABG), the emergency might take them to a specialized hospital. Moreover, some hospitals may have specialized gynecology or maternity departments, thus, female patients may prefer or be admitted to one hospital over the other. \n",
    "\n",
    "Taking these factors into account, I believe there are omitted variables present, including the gender of the patient and age, which might cause an underestimation in the Hospital_id coefficient, given that the correlation between the gender and hospital_id is negative. The patient gender is controlled next. "
   ]
  },
  {
   "cell_type": "code",
   "execution_count": 65,
   "metadata": {},
   "outputs": [
    {
     "name": "stdout",
     "output_type": "stream",
     "text": [
      "                            OLS Regression Results                            \n",
      "==============================================================================\n",
      "Dep. Variable:     patient_died_dummy   R-squared:                       0.063\n",
      "Model:                            OLS   Adj. R-squared:                  0.062\n",
      "Method:                 Least Squares   F-statistic:                     147.6\n",
      "Date:                Sun, 11 Feb 2024   Prob (F-statistic):           1.43e-92\n",
      "Time:                        17:50:30   Log-Likelihood:                -1232.8\n",
      "No. Observations:                6611   AIC:                             2474.\n",
      "Df Residuals:                    6607   BIC:                             2501.\n",
      "Df Model:                           3                                         \n",
      "Covariance Type:            nonrobust                                         \n",
      "=======================================================================================\n",
      "                          coef    std err          t      P>|t|      [0.025      0.975]\n",
      "---------------------------------------------------------------------------------------\n",
      "Intercept               0.1165      0.027      4.335      0.000       0.064       0.169\n",
      "C(hospital_id)[T.B]     0.0114      0.007      1.579      0.114      -0.003       0.026\n",
      "female_dummy            0.1836      0.009     21.015      0.000       0.167       0.201\n",
      "startage               -0.0009      0.000     -2.347      0.019      -0.002      -0.000\n",
      "==============================================================================\n",
      "Omnibus:                     3080.506   Durbin-Watson:                   2.037\n",
      "Prob(Omnibus):                  0.000   Jarque-Bera (JB):            12181.285\n",
      "Skew:                           2.411   Prob(JB):                         0.00\n",
      "Kurtosis:                       7.580   Cond. No.                         495.\n",
      "==============================================================================\n",
      "\n",
      "Notes:\n",
      "[1] Standard Errors assume that the covariance matrix of the errors is correctly specified.\n"
     ]
    }
   ],
   "source": [
    "# Control for patient age to obtain a causal estimate\n",
    "reg_B_age = smf.ols(formula = 'patient_died_dummy ~ C(hospital_id) + female_dummy + startage', data = health_df_A_B).fit()   \n",
    "\n",
    "print(reg_B_age.summary())"
   ]
  },
  {
   "cell_type": "markdown",
   "metadata": {},
   "source": [
    "c) Including the dummy variable for gender and age, increased the coefficient of the dummy variable `hospital_id` to 0.0114 (1.14%). This indicates that there is positive relationship between the patient characteristics, `female_dummy` and `startage`, and the likelihood of admission to Hospital B as compared to Hospital A. \n",
    "\n",
    "The P-value for `hospital_id` is a little above the significance level of 10%, which is an improvement to the previous regression model. Controlling for the gender of the patient, we have more confidence to claim that patients admitted to Hospital B have 1.21% higher mortality rate as compared to patients in Hospital A."
   ]
  },
  {
   "cell_type": "markdown",
   "metadata": {},
   "source": [
    "**Part 2. Demand estimation**\n",
    "\n",
    "**Question 1. Regress sales on price, and another regression on price and a summer dummy for Vendor 1.**"
   ]
  },
  {
   "cell_type": "code",
   "execution_count": 66,
   "metadata": {},
   "outputs": [
    {
     "name": "stdout",
     "output_type": "stream",
     "text": [
      "<class 'pandas.core.frame.DataFrame'>\n",
      "RangeIndex: 5200 entries, 0 to 5199\n",
      "Data columns (total 5 columns):\n",
      " #   Column        Non-Null Count  Dtype  \n",
      "---  ------        --------------  -----  \n",
      " 0   vendor_id     5200 non-null   int64  \n",
      " 1   week          5200 non-null   int64  \n",
      " 2   summer_dummy  5200 non-null   int64  \n",
      " 3   price         5200 non-null   float64\n",
      " 4   sales         5200 non-null   float64\n",
      "dtypes: float64(2), int64(3)\n",
      "memory usage: 203.3 KB\n"
     ]
    }
   ],
   "source": [
    "# Load data\n",
    "demand_df = pd.read_csv('demand_data.csv')\n",
    "demand_df.info()"
   ]
  },
  {
   "cell_type": "code",
   "execution_count": 67,
   "metadata": {},
   "outputs": [
    {
     "data": {
      "text/html": [
       "<div>\n",
       "<style scoped>\n",
       "    .dataframe tbody tr th:only-of-type {\n",
       "        vertical-align: middle;\n",
       "    }\n",
       "\n",
       "    .dataframe tbody tr th {\n",
       "        vertical-align: top;\n",
       "    }\n",
       "\n",
       "    .dataframe thead th {\n",
       "        text-align: right;\n",
       "    }\n",
       "</style>\n",
       "<table border=\"1\" class=\"dataframe\">\n",
       "  <thead>\n",
       "    <tr style=\"text-align: right;\">\n",
       "      <th></th>\n",
       "      <th>vendor_id</th>\n",
       "      <th>week</th>\n",
       "      <th>summer_dummy</th>\n",
       "      <th>price</th>\n",
       "      <th>sales</th>\n",
       "    </tr>\n",
       "  </thead>\n",
       "  <tbody>\n",
       "    <tr>\n",
       "      <th>count</th>\n",
       "      <td>5200.000000</td>\n",
       "      <td>5200.000000</td>\n",
       "      <td>5200.000000</td>\n",
       "      <td>5200.000000</td>\n",
       "      <td>5200.000000</td>\n",
       "    </tr>\n",
       "    <tr>\n",
       "      <th>mean</th>\n",
       "      <td>50.500000</td>\n",
       "      <td>26.500000</td>\n",
       "      <td>0.250000</td>\n",
       "      <td>3.292019</td>\n",
       "      <td>8834.468677</td>\n",
       "    </tr>\n",
       "    <tr>\n",
       "      <th>std</th>\n",
       "      <td>28.868846</td>\n",
       "      <td>15.009774</td>\n",
       "      <td>0.433054</td>\n",
       "      <td>1.207849</td>\n",
       "      <td>545.338400</td>\n",
       "    </tr>\n",
       "    <tr>\n",
       "      <th>min</th>\n",
       "      <td>1.000000</td>\n",
       "      <td>1.000000</td>\n",
       "      <td>0.000000</td>\n",
       "      <td>1.500000</td>\n",
       "      <td>3249.217300</td>\n",
       "    </tr>\n",
       "    <tr>\n",
       "      <th>25%</th>\n",
       "      <td>25.750000</td>\n",
       "      <td>13.750000</td>\n",
       "      <td>0.000000</td>\n",
       "      <td>2.500000</td>\n",
       "      <td>8705.932375</td>\n",
       "    </tr>\n",
       "    <tr>\n",
       "      <th>50%</th>\n",
       "      <td>50.500000</td>\n",
       "      <td>26.500000</td>\n",
       "      <td>0.000000</td>\n",
       "      <td>3.000000</td>\n",
       "      <td>8875.519500</td>\n",
       "    </tr>\n",
       "    <tr>\n",
       "      <th>75%</th>\n",
       "      <td>75.250000</td>\n",
       "      <td>39.250000</td>\n",
       "      <td>0.250000</td>\n",
       "      <td>4.000000</td>\n",
       "      <td>9051.101825</td>\n",
       "    </tr>\n",
       "    <tr>\n",
       "      <th>max</th>\n",
       "      <td>100.000000</td>\n",
       "      <td>52.000000</td>\n",
       "      <td>1.000000</td>\n",
       "      <td>6.000000</td>\n",
       "      <td>9851.132800</td>\n",
       "    </tr>\n",
       "  </tbody>\n",
       "</table>\n",
       "</div>"
      ],
      "text/plain": [
       "         vendor_id         week  summer_dummy        price        sales\n",
       "count  5200.000000  5200.000000   5200.000000  5200.000000  5200.000000\n",
       "mean     50.500000    26.500000      0.250000     3.292019  8834.468677\n",
       "std      28.868846    15.009774      0.433054     1.207849   545.338400\n",
       "min       1.000000     1.000000      0.000000     1.500000  3249.217300\n",
       "25%      25.750000    13.750000      0.000000     2.500000  8705.932375\n",
       "50%      50.500000    26.500000      0.000000     3.000000  8875.519500\n",
       "75%      75.250000    39.250000      0.250000     4.000000  9051.101825\n",
       "max     100.000000    52.000000      1.000000     6.000000  9851.132800"
      ]
     },
     "execution_count": 67,
     "metadata": {},
     "output_type": "execute_result"
    }
   ],
   "source": [
    "demand_df.describe()"
   ]
  },
  {
   "cell_type": "code",
   "execution_count": 68,
   "metadata": {},
   "outputs": [
    {
     "data": {
      "text/html": [
       "<div>\n",
       "<style scoped>\n",
       "    .dataframe tbody tr th:only-of-type {\n",
       "        vertical-align: middle;\n",
       "    }\n",
       "\n",
       "    .dataframe tbody tr th {\n",
       "        vertical-align: top;\n",
       "    }\n",
       "\n",
       "    .dataframe thead th {\n",
       "        text-align: right;\n",
       "    }\n",
       "</style>\n",
       "<table border=\"1\" class=\"dataframe\">\n",
       "  <thead>\n",
       "    <tr style=\"text-align: right;\">\n",
       "      <th></th>\n",
       "      <th>vendor_id</th>\n",
       "      <th>week</th>\n",
       "      <th>summer_dummy</th>\n",
       "      <th>price</th>\n",
       "      <th>sales</th>\n",
       "    </tr>\n",
       "  </thead>\n",
       "  <tbody>\n",
       "    <tr>\n",
       "      <th>0</th>\n",
       "      <td>1</td>\n",
       "      <td>1</td>\n",
       "      <td>0</td>\n",
       "      <td>2.0</td>\n",
       "      <td>8788.7383</td>\n",
       "    </tr>\n",
       "    <tr>\n",
       "      <th>1</th>\n",
       "      <td>1</td>\n",
       "      <td>2</td>\n",
       "      <td>0</td>\n",
       "      <td>3.0</td>\n",
       "      <td>8937.9863</td>\n",
       "    </tr>\n",
       "    <tr>\n",
       "      <th>2</th>\n",
       "      <td>1</td>\n",
       "      <td>3</td>\n",
       "      <td>0</td>\n",
       "      <td>3.0</td>\n",
       "      <td>8740.1777</td>\n",
       "    </tr>\n",
       "    <tr>\n",
       "      <th>3</th>\n",
       "      <td>1</td>\n",
       "      <td>4</td>\n",
       "      <td>0</td>\n",
       "      <td>3.0</td>\n",
       "      <td>8757.1338</td>\n",
       "    </tr>\n",
       "    <tr>\n",
       "      <th>4</th>\n",
       "      <td>1</td>\n",
       "      <td>5</td>\n",
       "      <td>0</td>\n",
       "      <td>3.0</td>\n",
       "      <td>8739.6104</td>\n",
       "    </tr>\n",
       "  </tbody>\n",
       "</table>\n",
       "</div>"
      ],
      "text/plain": [
       "   vendor_id  week  summer_dummy  price      sales\n",
       "0          1     1             0    2.0  8788.7383\n",
       "1          1     2             0    3.0  8937.9863\n",
       "2          1     3             0    3.0  8740.1777\n",
       "3          1     4             0    3.0  8757.1338\n",
       "4          1     5             0    3.0  8739.6104"
      ]
     },
     "execution_count": 68,
     "metadata": {},
     "output_type": "execute_result"
    }
   ],
   "source": [
    "demand_df.head()    "
   ]
  },
  {
   "cell_type": "code",
   "execution_count": 69,
   "metadata": {},
   "outputs": [
    {
     "name": "stdout",
     "output_type": "stream",
     "text": [
      "<class 'pandas.core.frame.DataFrame'>\n",
      "Index: 52 entries, 0 to 51\n",
      "Data columns (total 5 columns):\n",
      " #   Column        Non-Null Count  Dtype  \n",
      "---  ------        --------------  -----  \n",
      " 0   vendor_id     52 non-null     int64  \n",
      " 1   week          52 non-null     int64  \n",
      " 2   summer_dummy  52 non-null     int64  \n",
      " 3   price         52 non-null     float64\n",
      " 4   sales         52 non-null     float64\n",
      "dtypes: float64(2), int64(3)\n",
      "memory usage: 2.4 KB\n"
     ]
    }
   ],
   "source": [
    "# Subset demand data for the Vendor 1, make sure data contains only 52 weeks\n",
    "demand_v1 = demand_df[demand_df['vendor_id'] == 1]\n",
    "demand_v1.info()"
   ]
  },
  {
   "cell_type": "code",
   "execution_count": 70,
   "metadata": {},
   "outputs": [
    {
     "name": "stdout",
     "output_type": "stream",
     "text": [
      "                            OLS Regression Results                            \n",
      "==============================================================================\n",
      "Dep. Variable:                  sales   R-squared:                       0.006\n",
      "Model:                            OLS   Adj. R-squared:                 -0.013\n",
      "Method:                 Least Squares   F-statistic:                    0.3250\n",
      "Date:                Sun, 11 Feb 2024   Prob (F-statistic):              0.571\n",
      "Time:                        17:50:31   Log-Likelihood:                -360.33\n",
      "No. Observations:                  52   AIC:                             724.7\n",
      "Df Residuals:                      50   BIC:                             728.6\n",
      "Df Model:                           1                                         \n",
      "Covariance Type:            nonrobust                                         \n",
      "==============================================================================\n",
      "                 coef    std err          t      P>|t|      [0.025      0.975]\n",
      "------------------------------------------------------------------------------\n",
      "Intercept   8983.8227    145.437     61.771      0.000    8691.704    9275.941\n",
      "price        -31.2310     54.782     -0.570      0.571    -141.264      78.802\n",
      "==============================================================================\n",
      "Omnibus:                        3.319   Durbin-Watson:                   1.572\n",
      "Prob(Omnibus):                  0.190   Jarque-Bera (JB):                2.367\n",
      "Skew:                           0.346   Prob(JB):                        0.306\n",
      "Kurtosis:                       3.784   Cond. No.                         12.5\n",
      "==============================================================================\n",
      "\n",
      "Notes:\n",
      "[1] Standard Errors assume that the covariance matrix of the errors is correctly specified.\n"
     ]
    }
   ],
   "source": [
    "# Regress sales on price for Vendor 1\n",
    "reg_v1 = smf.ols(formula = 'sales ~ price', data = demand_v1).fit()\n",
    "print(reg_v1.summary())"
   ]
  },
  {
   "cell_type": "code",
   "execution_count": 71,
   "metadata": {},
   "outputs": [
    {
     "name": "stdout",
     "output_type": "stream",
     "text": [
      "                            OLS Regression Results                            \n",
      "==============================================================================\n",
      "Dep. Variable:                  sales   R-squared:                       0.318\n",
      "Model:                            OLS   Adj. R-squared:                  0.290\n",
      "Method:                 Least Squares   F-statistic:                     11.42\n",
      "Date:                Sun, 11 Feb 2024   Prob (F-statistic):           8.49e-05\n",
      "Time:                        17:50:31   Log-Likelihood:                -350.56\n",
      "No. Observations:                  52   AIC:                             707.1\n",
      "Df Residuals:                      49   BIC:                             713.0\n",
      "Df Model:                           2                                         \n",
      "Covariance Type:            nonrobust                                         \n",
      "================================================================================\n",
      "                   coef    std err          t      P>|t|      [0.025      0.975]\n",
      "--------------------------------------------------------------------------------\n",
      "Intercept     9177.5500    128.432     71.458      0.000    8919.455    9435.644\n",
      "price         -141.1887     51.407     -2.746      0.008    -244.496     -37.882\n",
      "summer_dummy   358.5012     75.790      4.730      0.000     206.195     510.807\n",
      "==============================================================================\n",
      "Omnibus:                        0.027   Durbin-Watson:                   1.690\n",
      "Prob(Omnibus):                  0.986   Jarque-Bera (JB):                0.078\n",
      "Skew:                           0.039   Prob(JB):                        0.962\n",
      "Kurtosis:                       2.828   Cond. No.                         13.7\n",
      "==============================================================================\n",
      "\n",
      "Notes:\n",
      "[1] Standard Errors assume that the covariance matrix of the errors is correctly specified.\n"
     ]
    }
   ],
   "source": [
    "# Regress sales on price and summer dummy for Vendor 1\n",
    "reg_v1_summer = smf.ols(formula = 'sales ~ price + summer_dummy', data = demand_v1).fit()\n",
    "print(reg_v1_summer.summary())"
   ]
  },
  {
   "cell_type": "markdown",
   "metadata": {},
   "source": [
    "After including the `summer_dummy` in the regression, we can notice that the `price` coefficient decreases, from the initial `-31.23` to `-141.19`. Using the formula for the omitted variable bias, we can infer that the covariance between the two independent variables, `price` and `summer_dummy` is negative, which indicates that the price decreases during the summer months. "
   ]
  },
  {
   "cell_type": "markdown",
   "metadata": {},
   "source": [
    "**Question 2. Regress sales on price, and another regression on price and a summer dummy for Vendor 2.**"
   ]
  },
  {
   "cell_type": "code",
   "execution_count": 72,
   "metadata": {},
   "outputs": [
    {
     "name": "stdout",
     "output_type": "stream",
     "text": [
      "                            OLS Regression Results                            \n",
      "==============================================================================\n",
      "Dep. Variable:                  sales   R-squared:                       0.133\n",
      "Model:                            OLS   Adj. R-squared:                  0.116\n",
      "Method:                 Least Squares   F-statistic:                     7.684\n",
      "Date:                Sun, 11 Feb 2024   Prob (F-statistic):            0.00781\n",
      "Time:                        17:50:31   Log-Likelihood:                -359.10\n",
      "No. Observations:                  52   AIC:                             722.2\n",
      "Df Residuals:                      50   BIC:                             726.1\n",
      "Df Model:                           1                                         \n",
      "Covariance Type:            nonrobust                                         \n",
      "==============================================================================\n",
      "                 coef    std err          t      P>|t|      [0.025      0.975]\n",
      "------------------------------------------------------------------------------\n",
      "Intercept   8411.1748    219.545     38.312      0.000    7970.205    8852.145\n",
      "price        218.6028     78.863      2.772      0.008      60.202     377.004\n",
      "==============================================================================\n",
      "Omnibus:                        1.154   Durbin-Watson:                   2.369\n",
      "Prob(Omnibus):                  0.562   Jarque-Bera (JB):                0.467\n",
      "Skew:                           0.114   Prob(JB):                        0.792\n",
      "Kurtosis:                       3.404   Cond. No.                         20.2\n",
      "==============================================================================\n",
      "\n",
      "Notes:\n",
      "[1] Standard Errors assume that the covariance matrix of the errors is correctly specified.\n"
     ]
    }
   ],
   "source": [
    "# Subset demand data for the Vendor 2\n",
    "# Regress sales on price for Vendor 2\n",
    "demand_v2 = demand_df[demand_df['vendor_id'] == 2]\n",
    "\n",
    "reg_v2 = smf.ols(formula = 'sales ~ price', data = demand_v2).fit()\n",
    "print(reg_v2.summary())"
   ]
  },
  {
   "cell_type": "code",
   "execution_count": 73,
   "metadata": {},
   "outputs": [
    {
     "name": "stdout",
     "output_type": "stream",
     "text": [
      "                            OLS Regression Results                            \n",
      "==============================================================================\n",
      "Dep. Variable:                  sales   R-squared:                       0.133\n",
      "Model:                            OLS   Adj. R-squared:                  0.116\n",
      "Method:                 Least Squares   F-statistic:                     7.684\n",
      "Date:                Sun, 11 Feb 2024   Prob (F-statistic):            0.00781\n",
      "Time:                        17:50:31   Log-Likelihood:                -359.10\n",
      "No. Observations:                  52   AIC:                             722.2\n",
      "Df Residuals:                      50   BIC:                             726.1\n",
      "Df Model:                           1                                         \n",
      "Covariance Type:            nonrobust                                         \n",
      "================================================================================\n",
      "                   coef    std err          t      P>|t|      [0.025      0.975]\n",
      "--------------------------------------------------------------------------------\n",
      "Intercept     2105.3159     29.848     70.534      0.000    2045.364    2165.268\n",
      "price         2740.9463     10.951    250.283      0.000    2718.950    2762.943\n",
      "summer_dummy -2522.3436     75.986    -33.195      0.000   -2674.966   -2369.721\n",
      "==============================================================================\n",
      "Omnibus:                        1.154   Durbin-Watson:                   2.369\n",
      "Prob(Omnibus):                  0.562   Jarque-Bera (JB):                0.467\n",
      "Skew:                           0.114   Prob(JB):                        0.792\n",
      "Kurtosis:                       3.404   Cond. No.                     8.19e+15\n",
      "==============================================================================\n",
      "\n",
      "Notes:\n",
      "[1] Standard Errors assume that the covariance matrix of the errors is correctly specified.\n",
      "[2] The smallest eigenvalue is 6.84e-30. This might indicate that there are\n",
      "strong multicollinearity problems or that the design matrix is singular.\n"
     ]
    }
   ],
   "source": [
    "# Regress sales on price and summer dummy for Vendor 2\n",
    "reg_v2_summer = smf.ols(formula = 'sales ~ price + summer_dummy', data = demand_v2).fit()\n",
    "print(reg_v2_summer.summary())"
   ]
  },
  {
   "cell_type": "code",
   "execution_count": 57,
   "metadata": {},
   "outputs": [
    {
     "data": {
      "text/html": [
       "<div>\n",
       "<style scoped>\n",
       "    .dataframe tbody tr th:only-of-type {\n",
       "        vertical-align: middle;\n",
       "    }\n",
       "\n",
       "    .dataframe tbody tr th {\n",
       "        vertical-align: top;\n",
       "    }\n",
       "\n",
       "    .dataframe thead th {\n",
       "        text-align: right;\n",
       "    }\n",
       "</style>\n",
       "<table border=\"1\" class=\"dataframe\">\n",
       "  <thead>\n",
       "    <tr style=\"text-align: right;\">\n",
       "      <th></th>\n",
       "      <th>vendor_id</th>\n",
       "      <th>week</th>\n",
       "      <th>summer_dummy</th>\n",
       "      <th>price</th>\n",
       "      <th>sales</th>\n",
       "    </tr>\n",
       "  </thead>\n",
       "  <tbody>\n",
       "    <tr>\n",
       "      <th>vendor_id</th>\n",
       "      <td>NaN</td>\n",
       "      <td>NaN</td>\n",
       "      <td>NaN</td>\n",
       "      <td>NaN</td>\n",
       "      <td>NaN</td>\n",
       "    </tr>\n",
       "    <tr>\n",
       "      <th>week</th>\n",
       "      <td>NaN</td>\n",
       "      <td>1.000000</td>\n",
       "      <td>0.057703</td>\n",
       "      <td>0.057703</td>\n",
       "      <td>0.152865</td>\n",
       "    </tr>\n",
       "    <tr>\n",
       "      <th>summer_dummy</th>\n",
       "      <td>NaN</td>\n",
       "      <td>0.057703</td>\n",
       "      <td>1.000000</td>\n",
       "      <td>1.000000</td>\n",
       "      <td>0.364969</td>\n",
       "    </tr>\n",
       "    <tr>\n",
       "      <th>price</th>\n",
       "      <td>NaN</td>\n",
       "      <td>0.057703</td>\n",
       "      <td>1.000000</td>\n",
       "      <td>1.000000</td>\n",
       "      <td>0.364969</td>\n",
       "    </tr>\n",
       "    <tr>\n",
       "      <th>sales</th>\n",
       "      <td>NaN</td>\n",
       "      <td>0.152865</td>\n",
       "      <td>0.364969</td>\n",
       "      <td>0.364969</td>\n",
       "      <td>1.000000</td>\n",
       "    </tr>\n",
       "  </tbody>\n",
       "</table>\n",
       "</div>"
      ],
      "text/plain": [
       "              vendor_id      week  summer_dummy     price     sales\n",
       "vendor_id           NaN       NaN           NaN       NaN       NaN\n",
       "week                NaN  1.000000      0.057703  0.057703  0.152865\n",
       "summer_dummy        NaN  0.057703      1.000000  1.000000  0.364969\n",
       "price               NaN  0.057703      1.000000  1.000000  0.364969\n",
       "sales               NaN  0.152865      0.364969  0.364969  1.000000"
      ]
     },
     "execution_count": 57,
     "metadata": {},
     "output_type": "execute_result"
    }
   ],
   "source": [
    "# Check for correlation between independent variables\n",
    "demand_v2.corr()"
   ]
  },
  {
   "cell_type": "markdown",
   "metadata": {},
   "source": [
    "The note indicates that there is a possible multicollinearity present, which was confirmed by the correlation matrix: `price` is perfectly correlated with `summer_dummy`, price is artificially increased during summer by Vendor 2.\n",
    "\n",
    "Although the practice and literature allows for some multicollinearity between independent variables, perfect multicollinearity affects the precision of the coefficients. "
   ]
  },
  {
   "cell_type": "markdown",
   "metadata": {},
   "source": [
    "**Question 3. Suppose price is not systematically increased/decreased during summer, what would happen to regression coefficients?**"
   ]
  },
  {
   "cell_type": "markdown",
   "metadata": {},
   "source": [
    "Assuming that ice-cream vendors are in manageable proximity from one another, and one vendor's prices affect also the prices of other vendors, and, assuming that Vendor 2 does not systematically increase price during the summer weeks, we can state that:\n",
    "\n",
    "- *For Vendor 1:* The coefficient of `summer_dummy` will decrease, as there will be more organic competition from Vendor 2. `price` will have higher negative effect on the sales as well, i.e. the coefficient will decrease.\n",
    "\n",
    "- *For Vendor 2:* The coefficient of `summer_dummy` will increase as it is likely to be positive, since people consume more ice-cream during summer. However, the coefficient for the `price` will increase. If we look at the OVB formula, price and seasonality have positive covariance (demand during summer months pushes price to increase) and the `summer_dummy` has a positive effect on ice-cream demand. "
   ]
  }
 ],
 "metadata": {
  "kernelspec": {
   "display_name": "Python 3",
   "language": "python",
   "name": "python3"
  },
  "language_info": {
   "codemirror_mode": {
    "name": "ipython",
    "version": 3
   },
   "file_extension": ".py",
   "mimetype": "text/x-python",
   "name": "python",
   "nbconvert_exporter": "python",
   "pygments_lexer": "ipython3",
   "version": "3.12.1"
  }
 },
 "nbformat": 4,
 "nbformat_minor": 2
}
